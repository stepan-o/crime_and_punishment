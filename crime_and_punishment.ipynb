{
 "cells": [
  {
   "cell_type": "markdown",
   "metadata": {},
   "source": [
    "# Crime and Punishment, by Fyodor Dostoyevski\n",
    "# Analysis using NLP techniques\n",
    "Text of the novel made available by [Project Gutenberg](http://www.gutenberg.org/catalog/)"
   ]
  },
  {
   "cell_type": "markdown",
   "metadata": {},
   "source": [
    "## Import dependencies"
   ]
  },
  {
   "cell_type": "code",
   "execution_count": 104,
   "metadata": {},
   "outputs": [],
   "source": [
    "import requests\n",
    "from nltk import word_tokenize, download, Text, FreqDist"
   ]
  },
  {
   "cell_type": "markdown",
   "metadata": {},
   "source": [
    "## Download NLTK package `punkt` for `word_tokenize`"
   ]
  },
  {
   "cell_type": "code",
   "execution_count": 22,
   "metadata": {},
   "outputs": [
    {
     "name": "stderr",
     "output_type": "stream",
     "text": [
      "[nltk_data] Downloading package punkt to\n",
      "[nltk_data]     /home/stepan/snap/jupyter/6/nltk_data...\n",
      "[nltk_data]   Unzipping tokenizers/punkt.zip.\n"
     ]
    },
    {
     "data": {
      "text/plain": [
       "True"
      ]
     },
     "execution_count": 22,
     "metadata": {},
     "output_type": "execute_result"
    }
   ],
   "source": [
    "import ssl\n",
    "\n",
    "try:\n",
    "    _create_unverified_https_context = ssl._create_unverified_context\n",
    "except AttributeError:\n",
    "    pass\n",
    "else:\n",
    "    ssl._create_default_https_context = _create_unverified_https_context\n",
    "\n",
    "download('punkt')"
   ]
  },
  {
   "cell_type": "markdown",
   "metadata": {},
   "source": [
    "## Download e-book from Project Gutenberg"
   ]
  },
  {
   "cell_type": "code",
   "execution_count": 2,
   "metadata": {},
   "outputs": [
    {
     "data": {
      "text/plain": [
       "'ISO-8859-1'"
      ]
     },
     "execution_count": 2,
     "metadata": {},
     "output_type": "execute_result"
    }
   ],
   "source": [
    "url = \"http://www.gutenberg.org/files/2554/2554-0.txt\"\n",
    "response = requests.get(url)\n",
    "response.encoding"
   ]
  },
  {
   "cell_type": "code",
   "execution_count": 5,
   "metadata": {},
   "outputs": [
    {
     "data": {
      "text/plain": [
       "str"
      ]
     },
     "execution_count": 5,
     "metadata": {},
     "output_type": "execute_result"
    }
   ],
   "source": [
    "book = response.text\n",
    "type(book)"
   ]
  },
  {
   "cell_type": "code",
   "execution_count": 6,
   "metadata": {},
   "outputs": [
    {
     "data": {
      "text/plain": [
       "1201735"
      ]
     },
     "execution_count": 6,
     "metadata": {},
     "output_type": "execute_result"
    }
   ],
   "source": [
    "len(book)"
   ]
  },
  {
   "cell_type": "code",
   "execution_count": 16,
   "metadata": {},
   "outputs": [
    {
     "data": {
      "text/plain": [
       "'ï»¿The Project Gutenberg EBook of Crime and Punishment, by Fyodor Dostoevsky\\r\\n\\r\\nThis eBook is for the use of anyone anywhere at no cost and with\\r\\nalmost no restrictions whatsoever.  You may copy it, give it away or\\r\\nre-use it under the terms of the Project Gutenberg License included\\r\\nwith this eBook or online at www.gutenberg.org\\r\\n\\r\\n\\r\\nTitle: Crime and Punishment\\r\\n\\r\\nAuthor: Fyodor Dostoevsky'"
      ]
     },
     "execution_count": 16,
     "metadata": {},
     "output_type": "execute_result"
    }
   ],
   "source": [
    "book[:393]"
   ]
  },
  {
   "cell_type": "markdown",
   "metadata": {},
   "source": [
    "## Tokenize text"
   ]
  },
  {
   "cell_type": "code",
   "execution_count": 23,
   "metadata": {},
   "outputs": [
    {
     "data": {
      "text/plain": [
       "244761"
      ]
     },
     "execution_count": 23,
     "metadata": {},
     "output_type": "execute_result"
    }
   ],
   "source": [
    "tokens = word_tokenize(book)\n",
    "len(tokens)"
   ]
  },
  {
   "cell_type": "code",
   "execution_count": 27,
   "metadata": {},
   "outputs": [
    {
     "data": {
      "text/plain": [
       "['ï',\n",
       " '»',\n",
       " '¿The',\n",
       " 'Project',\n",
       " 'Gutenberg',\n",
       " 'EBook',\n",
       " 'of',\n",
       " 'Crime',\n",
       " 'and',\n",
       " 'Punishment',\n",
       " ',',\n",
       " 'by',\n",
       " 'Fyodor',\n",
       " 'Dostoevsky']"
      ]
     },
     "execution_count": 27,
     "metadata": {},
     "output_type": "execute_result"
    }
   ],
   "source": [
    "tokens[:14]"
   ]
  },
  {
   "cell_type": "markdown",
   "metadata": {},
   "source": [
    "## Create NLTK text from list of tokens"
   ]
  },
  {
   "cell_type": "code",
   "execution_count": 29,
   "metadata": {},
   "outputs": [
    {
     "data": {
      "text/plain": [
       "nltk.text.Text"
      ]
     },
     "execution_count": 29,
     "metadata": {},
     "output_type": "execute_result"
    }
   ],
   "source": [
    "text = Text(tokens)\n",
    "type(text)"
   ]
  },
  {
   "cell_type": "markdown",
   "metadata": {},
   "source": [
    "## Lexical dispersion plot"
   ]
  },
  {
   "cell_type": "code",
   "execution_count": 127,
   "metadata": {},
   "outputs": [
    {
     "data": {
      "image/png": "[encoded data removed]",
      "text/plain": [
       "<Figure size 432x288 with 1 Axes>"
      ]
     },
     "metadata": {
      "needs_background": "light"
     },
     "output_type": "display_data"
    }
   ],
   "source": [
    "text.dispersion_plot(['Dostoevsky', 'Raskolnikov', 'Alyona', 'Marmeladov', \n",
    "                      'Katerina', 'Sonia', 'Razumihin', 'mother', 'Dounia', 'Luzhin', \n",
    "                      'Porfiry', 'Siberia'])"
   ]
  },
  {
   "cell_type": "markdown",
   "metadata": {},
   "source": [
    "## Generate random text"
   ]
  },
  {
   "cell_type": "code",
   "execution_count": 71,
   "metadata": {},
   "outputs": [
    {
     "name": "stderr",
     "output_type": "stream",
     "text": [
      "Building ngram index...\n"
     ]
    },
    {
     "name": "stdout",
     "output_type": "stream",
     "text": [
      "it ! , that a month ago Mr. Lebeziatnikov appeared at the hands of the\n",
      "room . and not to be bound , for Dmitri and Nikolay ran out into the\n",
      "street . At last , agitated and apparently calm voice ( though I was\n",
      "sitting at the spot , repay me for a long while trying to comfort them\n",
      "and had succumbed quite by accident . to help me with aversion ?\n",
      "Raskolnikovâs laughter . garden , he had thought of something . .\n",
      "day . Even the old woman was only twenty-three . âBeat ? in the\n",
      "house\n"
     ]
    },
    {
     "data": {
      "text/plain": [
       "'it ! , that a month ago Mr. Lebeziatnikov appeared at the hands of the\\nroom . and not to be bound , for Dmitri and Nikolay ran out into the\\nstreet . At last , agitated and apparently calm voice ( though I was\\nsitting at the spot , repay me for a long while trying to comfort them\\nand had succumbed quite by accident . to help me with aversion ?\\nRaskolnikovâ\\x80\\x99s laughter . garden , he had thought of something . .\\nday . Even the old woman was only twenty-three . â\\x80\\x9cBeat ? in the\\nhouse'"
      ]
     },
     "execution_count": 71,
     "metadata": {},
     "output_type": "execute_result"
    }
   ],
   "source": [
    "text.generate()"
   ]
  },
  {
   "cell_type": "markdown",
   "metadata": {},
   "source": [
    "## Examining context"
   ]
  },
  {
   "cell_type": "code",
   "execution_count": 86,
   "metadata": {},
   "outputs": [
    {
     "name": "stdout",
     "output_type": "stream",
     "text": [
      "Displaying 25 of 181 matches:\n",
      " in only two rooms . The father and mother spent their evenings in reading alo\n",
      "frightened face , were watching her mother with alarm . Marmeladov did not ent\n",
      "rought him . That was it : from his mother , from the province of R -- -- . He\n",
      "ing , so dear and familiar , of the mother who had once taught him to read and\n",
      " . âMy dear Rodya , â wrote his mother -- âitâs two months since I las\n",
      "e triumph of his decision . âNo , mother , no , Dounia , you wonât deceive\n",
      "r prayers were like before the Holy Mother of Kazan who stands in motherâs b\n",
      " of our most rising generation , as mother writes , and who _seems_ to be kind\n",
      " ... But I should like to know why mother has written to me about âour most\n",
      "struck her as rude _a little_ , and mother in her simplicity took her observat\n",
      ", you are everything to us.â Oh , mother ! â His bitterness grew more and \n",
      "fter that ! But his _bride_ and her mother are to drive in a peasantâs cart \n",
      ".. . And you must be aware that her mother has to raise money on her pension f\n",
      "ge , itâs a foretaste of it . And mother too , why should she be so lavish ?\n",
      "thing on that subject also , though mother would deny it : âI shall refuse ,\n",
      " him , confound him ! âWell , ... mother I donât wonder at , itâs like h\n",
      " you last : I understood you then . Mother writes that âDounia can put up wi\n",
      " put up with a great deal . And now mother and she have taken it into their he\n",
      "unts to ; for her brother , for her mother , she will sell herself ! She will \n",
      " end his life a famous man ! But my mother ? Itâs all Rodya , precious Rodya\n",
      "re can be no question of love , â mother writes . And what if there can be n\n",
      " Marfa Petrovna . And how will your mother feel then ? Even now she is uneasy \n",
      "fice , Dounia , I wonât have it , mother ! It shall not be , so long as I am\n",
      " ten years ? In another ten years , mother will be blind with knitting shawls \n",
      " to herself and weep , and then her mother will find out ... . She will give h\n"
     ]
    }
   ],
   "source": [
    "text.concordance('mother')"
   ]
  },
  {
   "cell_type": "code",
   "execution_count": 87,
   "metadata": {},
   "outputs": [
    {
     "name": "stdout",
     "output_type": "stream",
     "text": [
      "Displaying 15 of 15 matches:\n",
      "ch will you give me for the watch , Alyona Ivanovna ? â âYou come with suc\n",
      "ou something else in a day or two , Alyona Ivanovna -- a valuable thing -- sil\n",
      " You are too quick ... . Good-day , Alyona Ivanovna.â Raskolnikov went out i\n",
      "nger sister of the old pawnbroker , Alyona Ivanovna , whom Raskolnikov had vis\n",
      " word , what a fright you are in of Alyona Ivanovna , â gabbled the huckster\n",
      "But this time donât say a word to Alyona Ivanovna , â her husband interrup\n",
      "ersation to give him the address of Alyona Ivanovna , the old pawnbroker , in \n",
      "ntion to the officer the pawnbroker Alyona Ivanovna and give him her address .\n",
      "ng his friend various details about Alyona Ivanovna . âShe is first-rate , â\n",
      "pen eyes at him . âGood evening , Alyona Ivanovna , â he began , trying to\n",
      "t ? What do you want ? â âWhy , Alyona Ivanovna , you know me ... Raskolni\n",
      " bawled in a thick voice , âHey , Alyona Ivanovna , old witch ! Lizaveta Iva\n",
      "y I heard that someone had murdered Alyona Ivanovna and her sister , Lizaveta \n",
      " these future Napoleons who did for Alyona Ivanovna last week ? â Zametov bl\n",
      "was moving out of the flat opposite Alyona Ivanovnaâs ... . I remember ... I\n"
     ]
    }
   ],
   "source": [
    "text.concordance('Alyona')"
   ]
  },
  {
   "cell_type": "code",
   "execution_count": 88,
   "metadata": {},
   "outputs": [
    {
     "name": "stdout",
     "output_type": "stream",
     "text": [
      "face mind room and father heart head that eyes hand sister money but\n",
      "brother life wife hands way illness letter\n"
     ]
    }
   ],
   "source": [
    "text.similar('mother')"
   ]
  },
  {
   "cell_type": "code",
   "execution_count": 92,
   "metadata": {},
   "outputs": [
    {
     "name": "stdout",
     "output_type": "stream",
     "text": [
      "words in only two met informed now lost still time stairs insufferable\n",
      "noticed really bring evident alone struck anxious caught\n"
     ]
    }
   ],
   "source": [
    "text.similar('agitated')"
   ]
  },
  {
   "cell_type": "code",
   "execution_count": 103,
   "metadata": {},
   "outputs": [
    {
     "name": "stdout",
     "output_type": "stream",
     "text": [
      "that_had whom_had but_was at_who that_was to_do but_did on_and\n",
      "seeing_and you_began to_had\n"
     ]
    }
   ],
   "source": [
    "text.common_contexts(['Raskolnikov', 'Porfiry'])"
   ]
  },
  {
   "cell_type": "markdown",
   "metadata": {},
   "source": [
    "## Lexical diversity"
   ]
  },
  {
   "cell_type": "code",
   "execution_count": 72,
   "metadata": {},
   "outputs": [
    {
     "data": {
      "text/plain": [
       "244761"
      ]
     },
     "execution_count": 72,
     "metadata": {},
     "output_type": "execute_result"
    }
   ],
   "source": [
    "len(text)"
   ]
  },
  {
   "cell_type": "code",
   "execution_count": 83,
   "metadata": {},
   "outputs": [
    {
     "data": {
      "text/plain": [
       "12446"
      ]
     },
     "execution_count": 83,
     "metadata": {},
     "output_type": "execute_result"
    }
   ],
   "source": [
    "len(set(text))"
   ]
  },
  {
   "cell_type": "code",
   "execution_count": 84,
   "metadata": {},
   "outputs": [
    {
     "data": {
      "text/plain": [
       "0.05084960430787585"
      ]
     },
     "execution_count": 84,
     "metadata": {},
     "output_type": "execute_result"
    }
   ],
   "source": [
    "len(set(text)) / len(text)"
   ]
  },
  {
   "cell_type": "markdown",
   "metadata": {},
   "source": [
    "## Term frequency distribution"
   ]
  },
  {
   "cell_type": "code",
   "execution_count": 106,
   "metadata": {},
   "outputs": [
    {
     "name": "stdout",
     "output_type": "stream",
     "text": [
      "<FreqDist with 12446 samples and 244761 outcomes>\n"
     ]
    }
   ],
   "source": [
    "fdist = FreqDist(text)\n",
    "print(fdist)"
   ]
  },
  {
   "cell_type": "code",
   "execution_count": 107,
   "metadata": {},
   "outputs": [
    {
     "data": {
      "text/plain": [
       "[(',', 16178),\n",
       " ('.', 9477),\n",
       " ('the', 7417),\n",
       " ('and', 6234),\n",
       " ('to', 5266),\n",
       " ('a', 4462),\n",
       " ('of', 3841),\n",
       " ('I', 3530),\n",
       " ('he', 3454),\n",
       " ('you', 3313),\n",
       " ('in', 3088),\n",
       " ('â\\x80\\x9d', 2888),\n",
       " ('that', 2806),\n",
       " ('was', 2799),\n",
       " ('it', 2626),\n",
       " ('!', 2364),\n",
       " ('?', 2275),\n",
       " ('his', 1998),\n",
       " ('at', 1944),\n",
       " ('...', 1767),\n",
       " ('her', 1766),\n",
       " ('not', 1755),\n",
       " ('with', 1722),\n",
       " ('for', 1589),\n",
       " ('had', 1573),\n",
       " ('him', 1565),\n",
       " ('on', 1430),\n",
       " ('is', 1387),\n",
       " ('all', 1225),\n",
       " ('she', 1206),\n",
       " ('He', 1149),\n",
       " ('as', 1146),\n",
       " ('be', 1126),\n",
       " ('have', 1108),\n",
       " ('but', 1103),\n",
       " (';', 1049),\n",
       " ('me', 1042),\n",
       " ('are', 834),\n",
       " ('so', 794),\n",
       " ('my', 738),\n",
       " ('Raskolnikov', 718),\n",
       " ('what', 717),\n",
       " ('from', 714),\n",
       " ('were', 704),\n",
       " ('out', 674),\n",
       " ('--', 667),\n",
       " ('up', 644),\n",
       " ('your', 633),\n",
       " ('this', 617),\n",
       " ('And', 608)]"
      ]
     },
     "execution_count": 107,
     "metadata": {},
     "output_type": "execute_result"
    }
   ],
   "source": [
    "fdist.most_common(50)"
   ]
  },
  {
   "cell_type": "code",
   "execution_count": 108,
   "metadata": {},
   "outputs": [
    {
     "name": "stderr",
     "output_type": "stream",
     "text": [
      "/home/stepan/snap/jupyter/common/lib/python3.7/site-packages/matplotlib/backends/backend_agg.py:211: RuntimeWarning: Glyph 128 missing from current font.\n",
      "  font.set_text(s, 0.0, flags=flags)\n",
      "/home/stepan/snap/jupyter/common/lib/python3.7/site-packages/matplotlib/backends/backend_agg.py:211: RuntimeWarning: Glyph 157 missing from current font.\n",
      "  font.set_text(s, 0.0, flags=flags)\n",
      "/home/stepan/snap/jupyter/common/lib/python3.7/site-packages/matplotlib/backends/backend_agg.py:180: RuntimeWarning: Glyph 128 missing from current font.\n",
      "  font.set_text(s, 0, flags=flags)\n",
      "/home/stepan/snap/jupyter/common/lib/python3.7/site-packages/matplotlib/backends/backend_agg.py:180: RuntimeWarning: Glyph 157 missing from current font.\n",
      "  font.set_text(s, 0, flags=flags)\n"
     ]
    },
    {
     "data": {
      "image/png": "[encoded data removed]",
      "text/plain": [
       "<Figure size 432x288 with 1 Axes>"
      ]
     },
     "metadata": {
      "needs_background": "light"
     },
     "output_type": "display_data"
    },
    {
     "data": {
      "text/plain": [
       "<matplotlib.axes._subplots.AxesSubplot at 0x7f04d9074898>"
      ]
     },
     "execution_count": 108,
     "metadata": {},
     "output_type": "execute_result"
    }
   ],
   "source": [
    "fdist.plot(50, cumulative=True)"
   ]
  },
  {
   "cell_type": "code",
   "execution_count": 110,
   "metadata": {},
   "outputs": [
    {
     "data": {
      "text/plain": [
       "['//gutenberg.org/license',\n",
       " '//pglaf.org/donate',\n",
       " '//pglaf.org/fundraising',\n",
       " '//www.gutenberg.org',\n",
       " '//www.gutenberg.org/2/5/5/2554/',\n",
       " 'Alexandrovnaâ\\x80\\x99s',\n",
       " 'Cough-cough-cough',\n",
       " 'Gambrinusâ\\x80\\x99.â\\x80\\x9d',\n",
       " 'Governor-General',\n",
       " 'Gutenberg-tmâ\\x80\\x99s',\n",
       " 'Kobilatnikovâ\\x80\\x99s',\n",
       " 'Lebeziatnikovâ\\x80\\x99s',\n",
       " 'Lippevechselâ\\x80\\x99s',\n",
       " 'Schleswig-Holstein',\n",
       " 'SvidrigaÃ¯lov.â\\x80\\x9d',\n",
       " 'SvidrigaÃ¯lovsâ\\x80\\x99',\n",
       " 'SvidrigaÃ¯lovâ\\x80\\x99s',\n",
       " '_Hof-kriegsrath_',\n",
       " '_Periodical_.â\\x80\\x9d',\n",
       " '_psychologically_',\n",
       " 'burgomeister.â\\x80\\x9d',\n",
       " 'circumstantially',\n",
       " 'confectionerâ\\x80\\x99s',\n",
       " 'conscience-prick',\n",
       " 'cross-examination',\n",
       " 'delicate-looking',\n",
       " 'disproportionate',\n",
       " 'disproportionately',\n",
       " 'enthusiastically',\n",
       " 'evil-intentioned',\n",
       " 'frightened-looking',\n",
       " 'governor-general',\n",
       " 'grey-and-rainbow-coloured',\n",
       " 'half-broken-down',\n",
       " 'hallucination.â\\x80\\x9d',\n",
       " 'horrible-looking',\n",
       " 'impertinence.â\\x80\\x9d',\n",
       " 'impracticality.â\\x80\\x9d',\n",
       " 'indiscriminately',\n",
       " 'indistinguishable',\n",
       " 'melodramatic.â\\x80\\x9d',\n",
       " 'misunderstanding',\n",
       " 'neighbourhood.â\\x80\\x9d',\n",
       " 'over-studying.â\\x80\\x9d',\n",
       " 'pawnbroker-woman',\n",
       " 'pork-butcherâ\\x80\\x99s.â\\x80\\x9d',\n",
       " 'poverty-stricken',\n",
       " 'practicality.â\\x80\\x9d',\n",
       " 'responsibilityâ\\x80\\x99',\n",
       " 'self-confidently',\n",
       " 'sinister-looking',\n",
       " 'straight-forward',\n",
       " 'superciliousness',\n",
       " 'terrible-looking',\n",
       " 'trademark/copyright',\n",
       " 'unenforceability',\n",
       " 'waistcoat-pocket',\n",
       " 'well-proportioned',\n",
       " 'www.gutenberg.org',\n",
       " 'â\\x80\\x98Raskolnikovâ\\x80\\x99',\n",
       " 'â\\x80\\x98extraordinary.â\\x80\\x99',\n",
       " 'â\\x80\\x98extraordinaryâ\\x80\\x99',\n",
       " 'â\\x80\\x98percentageâ\\x80\\x99',\n",
       " 'â\\x80\\x9cLebeziatnikov',\n",
       " 'â\\x80\\x9cLiterally.â\\x80\\x9d',\n",
       " 'â\\x80\\x9cRaskolnikov.â\\x80\\x9d',\n",
       " 'â\\x80\\x9cSvidrigaÃ¯lov',\n",
       " 'â\\x80\\x9ccowardice.â\\x80\\x9d',\n",
       " 'â\\x80\\x9cextraordinary',\n",
       " 'â\\x80\\x9cindependenceâ\\x80\\x9d',\n",
       " 'â\\x80\\x9cspontaneousâ\\x80\\x9d']"
      ]
     },
     "execution_count": 110,
     "metadata": {},
     "output_type": "execute_result"
    }
   ],
   "source": [
    "V = set(text)\n",
    "long_words = [w for w in V if len(w) > 15]\n",
    "sorted(long_words)"
   ]
  },
  {
   "cell_type": "code",
   "execution_count": 114,
   "metadata": {},
   "outputs": [
    {
     "name": "stdout",
     "output_type": "stream",
     "text": [
      "Collecting https://github.com/nltk/nltk/archive/develop.zip\n",
      "\u001b[?25l  Downloading https://github.com/nltk/nltk/archive/develop.zip\n",
      "\u001b[K     / 3.1MB 1.2MB/s     - 2.3MB 1.2MB/s\n",
      "\u001b[?25hRequirement already satisfied, skipping upgrade: six in /snap/jupyter/6/lib/python3.7/site-packages (from nltk==3.5) (1.12.0)\n",
      "Requirement already satisfied, skipping upgrade: click in /home/stepan/snap/jupyter/common/lib/python3.7/site-packages (from nltk==3.5) (7.0)\n",
      "Requirement already satisfied, skipping upgrade: joblib in /home/stepan/snap/jupyter/common/lib/python3.7/site-packages (from nltk==3.5) (0.14.0)\n",
      "Collecting regex (from nltk==3.5)\n",
      "  Using cached https://files.pythonhosted.org/packages/fc/1d/13cc7d174cd2d05808abac3f5fb37433e30c4cd93b152d2a9c09c926d7e8/regex-2019.11.1.tar.gz\n",
      "Collecting tqdm (from nltk==3.5)\n",
      "  Using cached https://files.pythonhosted.org/packages/05/f2/764a5d530cf143ded9bc95216edb6e258c6554511e78de7c250557e8f3ed/tqdm-4.37.0-py2.py3-none-any.whl\n",
      "Building wheels for collected packages: nltk, regex\n",
      "  Building wheel for nltk (setup.py) ... \u001b[?25ldone\n",
      "\u001b[?25h  Stored in directory: /tmp/pip-ephem-wheel-cache-cyruqg7n/wheels/d4/95/12/d9607e211d0c92afa0e290377b076579de3c117271bbbe6855\n",
      "  Building wheel for regex (setup.py) ... \u001b[?25lerror\n",
      "\u001b[31m  ERROR: Complete output from command /snap/jupyter/6/bin/python -u -c 'import setuptools, tokenize;__file__='\"'\"'/tmp/pip-install-n8rx_646/regex/setup.py'\"'\"';f=getattr(tokenize, '\"'\"'open'\"'\"', open)(__file__);code=f.read().replace('\"'\"'\\r\\n'\"'\"', '\"'\"'\\n'\"'\"');f.close();exec(compile(code, __file__, '\"'\"'exec'\"'\"'))' bdist_wheel -d /tmp/pip-wheel-ayxctdba --python-tag cp37:\u001b[0m\n",
      "\u001b[31m  ERROR: running bdist_wheel\n",
      "  running build\n",
      "  running build_py\n",
      "  creating build\n",
      "  creating build/lib.linux-x86_64-3.7\n",
      "  creating build/lib.linux-x86_64-3.7/regex\n",
      "  copying regex_3/__init__.py -> build/lib.linux-x86_64-3.7/regex\n",
      "  copying regex_3/regex.py -> build/lib.linux-x86_64-3.7/regex\n",
      "  copying regex_3/_regex_core.py -> build/lib.linux-x86_64-3.7/regex\n",
      "  copying regex_3/test_regex.py -> build/lib.linux-x86_64-3.7/regex\n",
      "  running build_ext\n",
      "  building 'regex._regex' extension\n",
      "  creating build/temp.linux-x86_64-3.7\n",
      "  creating build/temp.linux-x86_64-3.7/regex_3\n",
      "  gcc -pthread -B /home/filipe/miniconda3/envs/JUPYTER/compiler_compat -Wl,--sysroot=/ -Wsign-compare -DNDEBUG -g -fwrapv -O3 -Wall -Wstrict-prototypes -fPIC -I/snap/jupyter/6/include/python3.7m -c regex_3/_regex.c -o build/temp.linux-x86_64-3.7/regex_3/_regex.o\n",
      "  unable to execute 'gcc': No such file or directory\n",
      "  error: command 'gcc' failed with exit status 1\n",
      "  ----------------------------------------\u001b[0m\n",
      "\u001b[31m  ERROR: Failed building wheel for regex\u001b[0m\n",
      "\u001b[?25h  Running setup.py clean for regex\n",
      "Successfully built nltk\n",
      "Failed to build regex\n",
      "Installing collected packages: regex, tqdm, nltk\n",
      "  Running setup.py install for regex ... \u001b[?25lerror\n",
      "\u001b[31m    ERROR: Complete output from command /snap/jupyter/6/bin/python -u -c 'import setuptools, tokenize;__file__='\"'\"'/tmp/pip-install-n8rx_646/regex/setup.py'\"'\"';f=getattr(tokenize, '\"'\"'open'\"'\"', open)(__file__);code=f.read().replace('\"'\"'\\r\\n'\"'\"', '\"'\"'\\n'\"'\"');f.close();exec(compile(code, __file__, '\"'\"'exec'\"'\"'))' install --record /tmp/pip-record-3v1hu7k_/install-record.txt --single-version-externally-managed --compile --user --prefix=:\u001b[0m\n",
      "\u001b[31m    ERROR: running install\n",
      "    running build\n",
      "    running build_py\n",
      "    creating build\n",
      "    creating build/lib.linux-x86_64-3.7\n",
      "    creating build/lib.linux-x86_64-3.7/regex\n",
      "    copying regex_3/__init__.py -> build/lib.linux-x86_64-3.7/regex\n",
      "    copying regex_3/regex.py -> build/lib.linux-x86_64-3.7/regex\n",
      "    copying regex_3/_regex_core.py -> build/lib.linux-x86_64-3.7/regex\n",
      "    copying regex_3/test_regex.py -> build/lib.linux-x86_64-3.7/regex\n",
      "    running build_ext\n",
      "    building 'regex._regex' extension\n",
      "    creating build/temp.linux-x86_64-3.7\n",
      "    creating build/temp.linux-x86_64-3.7/regex_3\n",
      "    gcc -pthread -B /home/filipe/miniconda3/envs/JUPYTER/compiler_compat -Wl,--sysroot=/ -Wsign-compare -DNDEBUG -g -fwrapv -O3 -Wall -Wstrict-prototypes -fPIC -I/snap/jupyter/6/include/python3.7m -c regex_3/_regex.c -o build/temp.linux-x86_64-3.7/regex_3/_regex.o\n",
      "    unable to execute 'gcc': No such file or directory\n",
      "    error: command 'gcc' failed with exit status 1\n",
      "    ----------------------------------------\u001b[0m\n",
      "\u001b[31mERROR: Command \"/snap/jupyter/6/bin/python -u -c 'import setuptools, tokenize;__file__='\"'\"'/tmp/pip-install-n8rx_646/regex/setup.py'\"'\"';f=getattr(tokenize, '\"'\"'open'\"'\"', open)(__file__);code=f.read().replace('\"'\"'\\r\\n'\"'\"', '\"'\"'\\n'\"'\"');f.close();exec(compile(code, __file__, '\"'\"'exec'\"'\"'))' install --record /tmp/pip-record-3v1hu7k_/install-record.txt --single-version-externally-managed --compile --user --prefix=\" failed with error code 1 in /tmp/pip-install-n8rx_646/regex/\u001b[0m\n",
      "\u001b[?25h"
     ]
    }
   ],
   "source": [
    "!pip install -U https://github.com/nltk/nltk/archive/develop.zip"
   ]
  },
  {
   "cell_type": "code",
   "execution_count": 113,
   "metadata": {},
   "outputs": [
    {
     "ename": "ValueError",
     "evalue": "too many values to unpack (expected 2)",
     "output_type": "error",
     "traceback": [
      "\u001b[0;31m---------------------------------------------------------------------------\u001b[0m",
      "\u001b[0;31mValueError\u001b[0m                                Traceback (most recent call last)",
      "\u001b[0;32m<ipython-input-113-35592e07579b>\u001b[0m in \u001b[0;36m<module>\u001b[0;34m\u001b[0m\n\u001b[0;32m----> 1\u001b[0;31m \u001b[0mtext\u001b[0m\u001b[0;34m.\u001b[0m\u001b[0mcollocations\u001b[0m\u001b[0;34m(\u001b[0m\u001b[0;34m)\u001b[0m\u001b[0;34m\u001b[0m\u001b[0;34m\u001b[0m\u001b[0m\n\u001b[0m",
      "\u001b[0;32m/home/stepan/snap/jupyter/common/lib/python3.7/site-packages/nltk/text.py\u001b[0m in \u001b[0;36mcollocations\u001b[0;34m(self, num, window_size)\u001b[0m\n\u001b[1;32m    442\u001b[0m \u001b[0;34m\u001b[0m\u001b[0m\n\u001b[1;32m    443\u001b[0m         collocation_strings = [\n\u001b[0;32m--> 444\u001b[0;31m             \u001b[0mw1\u001b[0m \u001b[0;34m+\u001b[0m \u001b[0;34m\" \"\u001b[0m \u001b[0;34m+\u001b[0m \u001b[0mw2\u001b[0m \u001b[0;32mfor\u001b[0m \u001b[0mw1\u001b[0m\u001b[0;34m,\u001b[0m \u001b[0mw2\u001b[0m \u001b[0;32min\u001b[0m \u001b[0mself\u001b[0m\u001b[0;34m.\u001b[0m\u001b[0mcollocation_list\u001b[0m\u001b[0;34m(\u001b[0m\u001b[0mnum\u001b[0m\u001b[0;34m,\u001b[0m \u001b[0mwindow_size\u001b[0m\u001b[0;34m)\u001b[0m\u001b[0;34m\u001b[0m\u001b[0;34m\u001b[0m\u001b[0m\n\u001b[0m\u001b[1;32m    445\u001b[0m         ]\n\u001b[1;32m    446\u001b[0m         \u001b[0mprint\u001b[0m\u001b[0;34m(\u001b[0m\u001b[0mtokenwrap\u001b[0m\u001b[0;34m(\u001b[0m\u001b[0mcollocation_strings\u001b[0m\u001b[0;34m,\u001b[0m \u001b[0mseparator\u001b[0m\u001b[0;34m=\u001b[0m\u001b[0;34m\"; \"\u001b[0m\u001b[0;34m)\u001b[0m\u001b[0;34m)\u001b[0m\u001b[0;34m\u001b[0m\u001b[0;34m\u001b[0m\u001b[0m\n",
      "\u001b[0;32m/home/stepan/snap/jupyter/common/lib/python3.7/site-packages/nltk/text.py\u001b[0m in \u001b[0;36m<listcomp>\u001b[0;34m(.0)\u001b[0m\n\u001b[1;32m    442\u001b[0m \u001b[0;34m\u001b[0m\u001b[0m\n\u001b[1;32m    443\u001b[0m         collocation_strings = [\n\u001b[0;32m--> 444\u001b[0;31m             \u001b[0mw1\u001b[0m \u001b[0;34m+\u001b[0m \u001b[0;34m\" \"\u001b[0m \u001b[0;34m+\u001b[0m \u001b[0mw2\u001b[0m \u001b[0;32mfor\u001b[0m \u001b[0mw1\u001b[0m\u001b[0;34m,\u001b[0m \u001b[0mw2\u001b[0m \u001b[0;32min\u001b[0m \u001b[0mself\u001b[0m\u001b[0;34m.\u001b[0m\u001b[0mcollocation_list\u001b[0m\u001b[0;34m(\u001b[0m\u001b[0mnum\u001b[0m\u001b[0;34m,\u001b[0m \u001b[0mwindow_size\u001b[0m\u001b[0;34m)\u001b[0m\u001b[0;34m\u001b[0m\u001b[0;34m\u001b[0m\u001b[0m\n\u001b[0m\u001b[1;32m    445\u001b[0m         ]\n\u001b[1;32m    446\u001b[0m         \u001b[0mprint\u001b[0m\u001b[0;34m(\u001b[0m\u001b[0mtokenwrap\u001b[0m\u001b[0;34m(\u001b[0m\u001b[0mcollocation_strings\u001b[0m\u001b[0;34m,\u001b[0m \u001b[0mseparator\u001b[0m\u001b[0;34m=\u001b[0m\u001b[0;34m\"; \"\u001b[0m\u001b[0;34m)\u001b[0m\u001b[0;34m)\u001b[0m\u001b[0;34m\u001b[0m\u001b[0;34m\u001b[0m\u001b[0m\n",
      "\u001b[0;31mValueError\u001b[0m: too many values to unpack (expected 2)"
     ]
    }
   ],
   "source": [
    "text.collocations()"
   ]
  },
  {
   "cell_type": "markdown",
   "metadata": {},
   "source": [
    "## Distribution of word length"
   ]
  },
  {
   "cell_type": "code",
   "execution_count": 116,
   "metadata": {},
   "outputs": [
    {
     "name": "stdout",
     "output_type": "stream",
     "text": [
      "<FreqDist with 23 samples and 244761 outcomes>\n"
     ]
    }
   ],
   "source": [
    "fdist = FreqDist(len(w) for w in text)\n",
    "print(fdist)"
   ]
  },
  {
   "cell_type": "code",
   "execution_count": 117,
   "metadata": {},
   "outputs": [
    {
     "data": {
      "text/plain": [
       "FreqDist({3: 53893, 1: 40204, 4: 36529, 2: 36314, 5: 20639, 6: 16990, 7: 14644, 8: 9756, 9: 6321, 10: 4188, ...})"
      ]
     },
     "execution_count": 117,
     "metadata": {},
     "output_type": "execute_result"
    }
   ],
   "source": [
    "fdist"
   ]
  },
  {
   "cell_type": "code",
   "execution_count": 118,
   "metadata": {},
   "outputs": [
    {
     "data": {
      "text/plain": [
       "[(3, 53893),\n",
       " (1, 40204),\n",
       " (4, 36529),\n",
       " (2, 36314),\n",
       " (5, 20639),\n",
       " (6, 16990),\n",
       " (7, 14644),\n",
       " (8, 9756),\n",
       " (9, 6321),\n",
       " (10, 4188),\n",
       " (11, 2617),\n",
       " (12, 1312),\n",
       " (13, 839),\n",
       " (14, 235),\n",
       " (15, 166),\n",
       " (16, 55),\n",
       " (17, 41),\n",
       " (18, 8),\n",
       " (19, 4),\n",
       " (20, 2),\n",
       " (23, 2),\n",
       " (25, 1),\n",
       " (31, 1)]"
      ]
     },
     "execution_count": 118,
     "metadata": {},
     "output_type": "execute_result"
    }
   ],
   "source": [
    "fdist.most_common()"
   ]
  },
  {
   "cell_type": "code",
   "execution_count": 120,
   "metadata": {},
   "outputs": [
    {
     "data": {
      "image/png": "[encoded data removed]",
      "text/plain": [
       "<Figure size 432x288 with 1 Axes>"
      ]
     },
     "metadata": {
      "needs_background": "light"
     },
     "output_type": "display_data"
    },
    {
     "data": {
      "text/plain": [
       "<matplotlib.axes._subplots.AxesSubplot at 0x7f04d8a36be0>"
      ]
     },
     "execution_count": 120,
     "metadata": {},
     "output_type": "execute_result"
    }
   ],
   "source": [
    "fdist.plot(cumulative=True)"
   ]
  },
  {
   "cell_type": "markdown",
   "metadata": {},
   "source": [
    "## Names"
   ]
  },
  {
   "cell_type": "code",
   "execution_count": 132,
   "metadata": {},
   "outputs": [
    {
     "data": {
      "text/plain": [
       "626"
      ]
     },
     "execution_count": 132,
     "metadata": {},
     "output_type": "execute_result"
    }
   ],
   "source": [
    "names = sorted(w for w in set(text) if w.istitle() and len(w) > 5)\n",
    "len(names)"
   ]
  },
  {
   "cell_type": "code",
   "execution_count": 133,
   "metadata": {},
   "outputs": [
    {
     "data": {
      "text/plain": [
       "['Abraham',\n",
       " 'Abroad',\n",
       " 'Abruptly',\n",
       " 'Academy',\n",
       " 'According',\n",
       " 'Achilles',\n",
       " 'Across',\n",
       " 'Additional',\n",
       " 'Adrianople',\n",
       " 'Afanasy',\n",
       " 'Afanasyvitch',\n",
       " 'Afraid',\n",
       " 'Africa',\n",
       " 'Afrosinya',\n",
       " 'Afterwards',\n",
       " 'Against',\n",
       " 'Alexandr',\n",
       " 'Alexandrovna',\n",
       " 'Alexey',\n",
       " 'Almighty',\n",
       " 'Almost',\n",
       " 'Although',\n",
       " 'Altogether',\n",
       " 'Alyona',\n",
       " 'Alyoshka',\n",
       " 'Amalia',\n",
       " 'America',\n",
       " 'American',\n",
       " 'Andrey',\n",
       " 'Aniska',\n",
       " 'Another',\n",
       " 'Answer',\n",
       " 'Anxiety',\n",
       " 'Anyhow',\n",
       " 'Anyone',\n",
       " 'Anything',\n",
       " 'Anyway',\n",
       " 'Appeal',\n",
       " 'Archive',\n",
       " 'Arkady',\n",
       " 'Assuming',\n",
       " 'Austrian',\n",
       " 'Author',\n",
       " 'Avdotya',\n",
       " 'Bacchus',\n",
       " 'Baring',\n",
       " 'Barmherzige_',\n",
       " 'Because',\n",
       " 'Bedlam',\n",
       " 'Before',\n",
       " 'Behind',\n",
       " 'Believe',\n",
       " 'Believer',\n",
       " 'Believest',\n",
       " 'Bending',\n",
       " 'Berlin_',\n",
       " 'Beside',\n",
       " 'Besides',\n",
       " 'Bethany',\n",
       " 'Better',\n",
       " 'Bezzemelny',\n",
       " 'Bickers',\n",
       " 'Bigotry',\n",
       " 'Bitter',\n",
       " 'Bother',\n",
       " 'Boulevard',\n",
       " 'Bridge',\n",
       " 'Brother',\n",
       " 'Byelinsky',\n",
       " 'Capitol',\n",
       " 'Captain',\n",
       " 'Carefully',\n",
       " 'Cathedral',\n",
       " 'Censorship',\n",
       " 'Certain',\n",
       " 'Certainly',\n",
       " 'Character',\n",
       " 'Children',\n",
       " 'Christ',\n",
       " 'Christian',\n",
       " 'Christmas',\n",
       " 'Church',\n",
       " 'Coarse',\n",
       " 'Coming',\n",
       " 'Compassionate',\n",
       " 'Complete',\n",
       " 'Compliance',\n",
       " 'Concluding',\n",
       " 'Confess',\n",
       " 'Confessions_',\n",
       " 'Confound',\n",
       " 'Consider',\n",
       " 'Constance',\n",
       " 'Contact',\n",
       " 'Contributions',\n",
       " 'Control',\n",
       " 'Copyright',\n",
       " 'Corners',\n",
       " 'Councillors',\n",
       " 'Creating',\n",
       " 'Creator',\n",
       " 'Crimeâ\\x80\\x99',\n",
       " 'Cristal',\n",
       " 'Crossing',\n",
       " 'Crucify',\n",
       " 'Cyprus',\n",
       " 'Dagestan',\n",
       " 'Damnation',\n",
       " 'Darkness',\n",
       " 'Darwinian',\n",
       " 'Daughter',\n",
       " 'Defect',\n",
       " 'Defend',\n",
       " 'Delirious',\n",
       " 'Dementyev',\n",
       " 'Department',\n",
       " 'Despite',\n",
       " 'Despot',\n",
       " 'Diamanten',\n",
       " 'Directly',\n",
       " 'Director',\n",
       " 'Disregarding',\n",
       " 'Divine',\n",
       " 'Dmitri',\n",
       " 'Domain',\n",
       " 'Donations',\n",
       " 'Dostoevsky',\n",
       " 'Dounia',\n",
       " 'Dourov',\n",
       " 'Drawing',\n",
       " 'Drenched',\n",
       " 'Drunken',\n",
       " 'Duclida',\n",
       " 'During',\n",
       " 'Dushkin',\n",
       " 'Dussauts',\n",
       " 'Duties',\n",
       " 'Easter',\n",
       " 'Economic',\n",
       " 'Egyptian',\n",
       " 'Either',\n",
       " 'Ekaterininsky',\n",
       " 'Embassy',\n",
       " 'Engineering',\n",
       " 'England',\n",
       " 'English',\n",
       " 'Englishmen',\n",
       " 'Enough',\n",
       " 'Europe',\n",
       " 'European',\n",
       " 'Evening',\n",
       " 'Everyone',\n",
       " 'Everything',\n",
       " 'Evidence',\n",
       " 'Evidently',\n",
       " 'Exactly',\n",
       " 'Except',\n",
       " 'Exclamations',\n",
       " 'Excuse',\n",
       " 'Executive',\n",
       " 'Expecting',\n",
       " 'Explained',\n",
       " 'Explosive',\n",
       " 'Expound',\n",
       " 'Extraordinary',\n",
       " 'Fairbanks',\n",
       " 'Farewell',\n",
       " 'Father',\n",
       " 'Fearful',\n",
       " 'Fearing',\n",
       " 'Fedosya',\n",
       " 'Feeble',\n",
       " 'Feeling',\n",
       " 'Feverish',\n",
       " 'Fighting',\n",
       " 'Filled',\n",
       " 'Finally',\n",
       " 'Finding',\n",
       " 'Finish',\n",
       " 'Finnish',\n",
       " 'Flushing',\n",
       " 'Fomitch',\n",
       " 'Foolish',\n",
       " 'Forasmuch',\n",
       " 'Forget',\n",
       " 'Forgive',\n",
       " 'Fortunately',\n",
       " 'Foundation',\n",
       " 'Foundationâ\\x80\\x9d',\n",
       " 'Fourier',\n",
       " 'France',\n",
       " 'Frantsovna',\n",
       " 'Frantsovnas',\n",
       " 'Freedom',\n",
       " 'French',\n",
       " 'Frenchman',\n",
       " 'Further',\n",
       " 'Fyodor',\n",
       " 'Fyodorovna',\n",
       " 'Garden',\n",
       " 'Garnett',\n",
       " 'General',\n",
       " 'Gentle',\n",
       " 'Gentlemen',\n",
       " 'German',\n",
       " 'Germans',\n",
       " 'Giving',\n",
       " 'Glancing',\n",
       " 'Golgotha',\n",
       " 'Goodness',\n",
       " 'Government',\n",
       " 'Governor-General',\n",
       " 'Graciously',\n",
       " 'Granted',\n",
       " 'Gregory',\n",
       " 'Grigorievitch',\n",
       " 'Grigoryev',\n",
       " 'Gutenberg',\n",
       " 'Gutenbergâ\\x80\\x9d',\n",
       " 'Halfway',\n",
       " 'Hamletâ\\x80\\x9d',\n",
       " 'Hardly',\n",
       " 'Harkov',\n",
       " 'Having',\n",
       " 'Hearing',\n",
       " 'Heaven',\n",
       " 'Heavens',\n",
       " 'Henriette',\n",
       " 'Herewith',\n",
       " 'Heruvimov',\n",
       " 'Himself',\n",
       " 'Hitherto',\n",
       " 'Honoured',\n",
       " 'Hopeless',\n",
       " 'However',\n",
       " 'Hundreds',\n",
       " 'Hurrah',\n",
       " 'Imagine',\n",
       " 'Impossible',\n",
       " 'Incidentally',\n",
       " 'Incongruous',\n",
       " 'Indeed',\n",
       " 'Information',\n",
       " 'Inquiring',\n",
       " 'Instantly',\n",
       " 'Instead',\n",
       " 'Instinct',\n",
       " 'Intense',\n",
       " 'Intensely',\n",
       " 'Internal',\n",
       " 'International',\n",
       " 'Investigation',\n",
       " 'Irritated',\n",
       " 'Irtish',\n",
       " 'Island',\n",
       " 'Islands',\n",
       " 'Ivanitch',\n",
       " 'Ivanovitch',\n",
       " 'Ivanovitchâ\\x80\\x99',\n",
       " 'Ivanovna',\n",
       " 'Jamaica',\n",
       " 'January',\n",
       " 'Jerusalem',\n",
       " 'Jesuitical',\n",
       " 'Jewish',\n",
       " 'Johann',\n",
       " 'Kapernaumov',\n",
       " 'Kapernaumovs',\n",
       " 'Kapernaumovsâ\\x80\\x99',\n",
       " 'Katerina',\n",
       " 'Kepler',\n",
       " 'Killing',\n",
       " 'Kindly',\n",
       " 'Kingdom',\n",
       " 'Klopstock',\n",
       " 'Knowing',\n",
       " 'Kobelev',\n",
       " 'Kolomensky',\n",
       " 'Krestovsky',\n",
       " 'Kryukov',\n",
       " 'Language',\n",
       " 'Lazarus',\n",
       " 'Lazarusâ\\x80\\x99',\n",
       " 'Learned',\n",
       " 'Leaving',\n",
       " 'Lebeziatnikov',\n",
       " 'Lesser',\n",
       " 'Lessons',\n",
       " 'Lewesâ\\x80\\x99',\n",
       " 'Liberal',\n",
       " 'License',\n",
       " 'Lieutenant',\n",
       " 'Lippevechsel',\n",
       " 'Lisbon',\n",
       " 'Listen',\n",
       " 'Listening',\n",
       " 'Literary',\n",
       " 'Literature',\n",
       " 'Little',\n",
       " 'Lizaveta',\n",
       " 'Looking',\n",
       " 'Louvain',\n",
       " 'Luckily',\n",
       " 'Ludwigovna',\n",
       " 'Luzhin',\n",
       " 'Lycurgus',\n",
       " 'Madame',\n",
       " 'Madeira',\n",
       " 'Madonna',\n",
       " 'Mahomet',\n",
       " 'Majesty',\n",
       " 'Making',\n",
       " 'Malaya',\n",
       " 'Mangot',\n",
       " 'Mariaâ\\x80\\x99',\n",
       " 'Market',\n",
       " 'Marmeladov',\n",
       " 'Marmeladovs',\n",
       " 'Martha',\n",
       " 'Matvey',\n",
       " 'Maurice',\n",
       " 'Meanwhile',\n",
       " 'Mechanically',\n",
       " 'Merciful',\n",
       " 'Methodâ\\x80\\x99',\n",
       " 'Michael',\n",
       " 'Mihail',\n",
       " 'Mihailovitch',\n",
       " 'Mihailovsky',\n",
       " 'Mikolka',\n",
       " 'Ministry',\n",
       " 'Mission',\n",
       " 'Mississippi',\n",
       " 'Mistrustfully',\n",
       " 'Mitrofanievsky',\n",
       " 'Moreover',\n",
       " 'Moscow',\n",
       " 'Mother',\n",
       " 'Munich',\n",
       " 'Murmurs',\n",
       " 'Naples',\n",
       " 'Napoleon',\n",
       " 'Napoleons',\n",
       " 'Nastasya',\n",
       " 'Natalya',\n",
       " 'Nearly',\n",
       " 'Neither',\n",
       " 'Nekrassov',\n",
       " 'Nevsky',\n",
       " 'Newton',\n",
       " 'Nezhin',\n",
       " 'Nicholas',\n",
       " 'Nights',\n",
       " 'Nihilist',\n",
       " 'Nihilists',\n",
       " 'Nikiforovna',\n",
       " 'Nikodim',\n",
       " 'Nikolaevsky',\n",
       " 'Nikolay',\n",
       " 'Nobody',\n",
       " 'Nonsense',\n",
       " 'Nothing',\n",
       " 'Notice',\n",
       " 'Noticing',\n",
       " 'Number',\n",
       " 'October',\n",
       " 'Official',\n",
       " 'Ordinary',\n",
       " 'Ostrov',\n",
       " 'Otherwise',\n",
       " 'Palace',\n",
       " 'Palais',\n",
       " 'Palmerston',\n",
       " 'Palmerstonâ\\x80\\x9d',\n",
       " 'Parasha',\n",
       " 'Pashenka',\n",
       " 'Pavlitch',\n",
       " 'Pavlovitch',\n",
       " 'Pavlovna',\n",
       " 'Peasants',\n",
       " 'People',\n",
       " 'Perhaps',\n",
       " 'Perlen_',\n",
       " 'Persia',\n",
       " 'Perspiration',\n",
       " 'Pestryakov',\n",
       " 'Petersburg',\n",
       " 'Petrovitch',\n",
       " 'Petrovna',\n",
       " 'Petrovsky',\n",
       " 'Philip',\n",
       " 'Physically',\n",
       " 'Physiology',\n",
       " 'Playful',\n",
       " 'Please',\n",
       " 'Plestcheiev',\n",
       " 'Pokorev',\n",
       " 'Polenka',\n",
       " 'Police',\n",
       " 'Polish',\n",
       " 'Porfiry',\n",
       " 'Positive',\n",
       " 'Possibly',\n",
       " 'Potanchikov',\n",
       " 'Practicality',\n",
       " 'Praskovya',\n",
       " 'Prince',\n",
       " 'Princess',\n",
       " 'Principle',\n",
       " 'Principles',\n",
       " 'Probably',\n",
       " 'Produce',\n",
       " 'Produced',\n",
       " 'Professor',\n",
       " 'Project',\n",
       " 'Prokofitch',\n",
       " 'Prompting',\n",
       " 'Prospect',\n",
       " 'Protect',\n",
       " 'Proudhon',\n",
       " 'Providence',\n",
       " 'Prussian',\n",
       " 'Psychologically',\n",
       " 'Public',\n",
       " 'Pulcheria',\n",
       " 'Punishment',\n",
       " 'Pushkin',\n",
       " 'Putting',\n",
       " 'Radishchev',\n",
       " 'Raphael',\n",
       " 'Raskolnikov',\n",
       " 'Raskolnikovâ\\x80\\x9d',\n",
       " 'Rather',\n",
       " 'Razsudkin',\n",
       " 'Razumihin',\n",
       " 'Razumihins',\n",
       " 'Reaching',\n",
       " 'Reading',\n",
       " 'Really',\n",
       " 'Reason',\n",
       " 'Reaumur',\n",
       " 'Recalling',\n",
       " 'Recognising',\n",
       " 'Redeemer',\n",
       " 'Redistributing',\n",
       " 'Redistribution',\n",
       " 'Reflect',\n",
       " 'Reflecting',\n",
       " 'Refundâ\\x80\\x9d',\n",
       " 'Regaining',\n",
       " 'Relations',\n",
       " 'Release',\n",
       " 'Remarking',\n",
       " 'Remember',\n",
       " 'Remembering',\n",
       " 'Remind',\n",
       " 'Replacement',\n",
       " 'Resist',\n",
       " 'Resslich',\n",
       " 'Revenue',\n",
       " 'Review_',\n",
       " 'Rodion',\n",
       " 'Rodionovitch',\n",
       " 'Rodionâ\\x80\\x99',\n",
       " 'Romanovitch',\n",
       " 'Romanovitchâ\\x80\\x9d',\n",
       " 'Romanovna',\n",
       " 'Rousseau',\n",
       " 'Royalty',\n",
       " 'Rubinstein',\n",
       " 'Rushing',\n",
       " 'Russia',\n",
       " 'Russian',\n",
       " 'Russians',\n",
       " 'Ryazan',\n",
       " 'Sadovy',\n",
       " 'Saturday',\n",
       " 'Schegolskoy',\n",
       " 'Schiller',\n",
       " 'Schilleresque',\n",
       " 'Schleswig-Holstein',\n",
       " 'Science',\n",
       " 'Scoundrel',\n",
       " 'Scraps',\n",
       " 'Search',\n",
       " 'Secondly',\n",
       " 'Section',\n",
       " 'Sections',\n",
       " 'Seeing',\n",
       " 'Semyon',\n",
       " 'Semyonovitch',\n",
       " 'Semyonovna',\n",
       " 'Semyonovsky',\n",
       " 'Senate',\n",
       " 'Service',\n",
       " 'Setting',\n",
       " 'Sevastopol',\n",
       " 'Several',\n",
       " 'Shaking',\n",
       " 'Shelopaev',\n",
       " 'Shivers',\n",
       " 'Should',\n",
       " 'Shouts',\n",
       " 'Siberia',\n",
       " 'Silence',\n",
       " 'Silver',\n",
       " 'Simpletons',\n",
       " 'Simply',\n",
       " 'Sistine',\n",
       " 'Society',\n",
       " 'Solely',\n",
       " 'Somebody',\n",
       " 'Someone',\n",
       " 'Something',\n",
       " 'Sometimes',\n",
       " 'Somewhat',\n",
       " 'Somewhere',\n",
       " 'Sovereign',\n",
       " 'Special',\n",
       " 'Splendid',\n",
       " 'Square',\n",
       " 'States',\n",
       " 'Strange',\n",
       " 'Street',\n",
       " 'Strength',\n",
       " 'Strikingly',\n",
       " 'Suddenly',\n",
       " 'Suffer',\n",
       " 'Suffering',\n",
       " 'Sunday',\n",
       " 'Sundays',\n",
       " 'Suppose',\n",
       " 'Supposing',\n",
       " 'Surely',\n",
       " 'Suspicious',\n",
       " 'Svirbey',\n",
       " 'Switzerland',\n",
       " 'Taking',\n",
       " 'Tchebarov',\n",
       " 'Terebyeva',\n",
       " 'Terror',\n",
       " 'Testament',\n",
       " 'Thanks',\n",
       " 'Therefore',\n",
       " 'Thereupon',\n",
       " 'Things',\n",
       " 'Thinking',\n",
       " 'Thirdly',\n",
       " 'Thirty',\n",
       " 'Though',\n",
       " 'Thousands',\n",
       " 'Threatening',\n",
       " 'Through',\n",
       " 'Timidly',\n",
       " 'Together',\n",
       " 'Tolstyakov',\n",
       " 'Toulon',\n",
       " 'Towards',\n",
       " 'Translated',\n",
       " 'Travels',\n",
       " 'Treatise',\n",
       " 'Trifles',\n",
       " 'Trinity',\n",
       " 'Trying',\n",
       " 'Turgenev',\n",
       " 'Turkish']"
      ]
     },
     "execution_count": 133,
     "metadata": {},
     "output_type": "execute_result"
    }
   ],
   "source": [
    "names[:-60]"
   ]
  },
  {
   "cell_type": "code",
   "execution_count": null,
   "metadata": {},
   "outputs": [],
   "source": []
  }
 ],
 "metadata": {
  "kernelspec": {
   "display_name": "Python 3",
   "language": "python",
   "name": "python3"
  },
  "language_info": {
   "codemirror_mode": {
    "name": "ipython",
    "version": 3
   },
   "file_extension": ".py",
   "mimetype": "text/x-python",
   "name": "python",
   "nbconvert_exporter": "python",
   "pygments_lexer": "ipython3",
   "version": "3.7.3"
  }
 },
 "nbformat": 4,
 "nbformat_minor": 2
}
